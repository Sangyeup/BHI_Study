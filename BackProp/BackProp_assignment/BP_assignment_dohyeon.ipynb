{
 "cells": [
  {
   "cell_type": "markdown",
   "metadata": {},
   "source": [
    "# Model training with Backpropagation\n",
    "\n",
    "- 막히는 부분 있으면, https://github.com/WegraLee/deep-learning-from-scratch/tree/master/ch05 참고!"
   ]
  },
  {
   "cell_type": "code",
   "execution_count": 2,
   "metadata": {},
   "outputs": [],
   "source": [
    "import sys, os\n",
    "sys.path.append(os.pardir)  # 상위 경로에 있는 functions, gradient 등을 import할 수 있게\n",
    "\n",
    "import numpy as np\n",
    "from functions import sigmoid"
   ]
  },
  {
   "cell_type": "markdown",
   "metadata": {},
   "source": [
    "## 1. Define layers as class\n",
    "\n",
    "* All layers have three methods\n",
    "    - `__init__(self, ...)`\n",
    "    - `forward(self, x)`\n",
    "    - `backward(self, dout)`"
   ]
  },
  {
   "cell_type": "markdown",
   "metadata": {},
   "source": [
    "### 1.1. Activation layers\n",
    "- ReLU\n",
    "- Sigmoid"
   ]
  },
  {
   "cell_type": "markdown",
   "metadata": {},
   "source": [
    "<figure>\n",
    "\n",
    "<img src=\"https://i.imgur.com/FrxDrr5.png\" width=\"600\">\n",
    "\n",
    "<figcaption align=\"center\"> - Backpropagation of relu node\n",
    "</figcaption>\n",
    "    \n",
    "</figure>"
   ]
  },
  {
   "cell_type": "code",
   "execution_count": 3,
   "metadata": {},
   "outputs": [],
   "source": [
    "class ReLU:\n",
    "    def __init__(self):\n",
    "        self.mask = None  # input에서 어떤 원소가 0 이하인지 저장하는 mask\n",
    "    \n",
    "    def forward(self, x):\n",
    "        ### Type your code below ###\n",
    "        self.mask = (x <= 0)\n",
    "        out = x.copy()\n",
    "        out[self.mask] = 0\n",
    "        \n",
    "        return out\n",
    "    \n",
    "    def backward(self, dout):\n",
    "        ### Type your code below ###\n",
    "        dout[self.mask] = 0\n",
    "        dx = dout\n",
    "        \n",
    "        return dx"
   ]
  },
  {
   "cell_type": "markdown",
   "metadata": {},
   "source": [
    "<figure>\n",
    "\n",
    "<img src=\"https://i.imgur.com/riURjqG.png\" width=\"500\">\n",
    "\n",
    "<figcaption align=\"center\"> - Backpropagation of sigmoid node\n",
    "</figcaption>\n",
    "    \n",
    "</figure>"
   ]
  },
  {
   "cell_type": "code",
   "execution_count": 4,
   "metadata": {},
   "outputs": [],
   "source": [
    "class Sigmoid:\n",
    "    def __init__(self):\n",
    "        self.out = None\n",
    "    \n",
    "    def forward(self, x):\n",
    "        ### Type your code below ###\n",
    "        out = sigmoid(x)\n",
    "        self.out = out\n",
    "        return out\n",
    "    \n",
    "    def backward(self, dout):\n",
    "        ### Type your code below ###\n",
    "        dx = dout * self.out * (1.0 - self.out)\n",
    "        return dx"
   ]
  },
  {
   "cell_type": "markdown",
   "metadata": {},
   "source": [
    "### 1.2. Affine layer\n",
    "\n",
    "<figure>\n",
    "\n",
    "<img src=\"https://img1.daumcdn.net/thumb/R1280x0/?scode=mtistory2&fname=http%3A%2F%2Fcfile7.uf.tistory.com%2Fimage%2F994510365B98F75122F136\" width=\"600\">\n",
    "\n",
    "<figcaption align=\"center\"> - Backpropagation of affine layer\n",
    "</figcaption>\n",
    "    \n",
    "</figure>"
   ]
  },
  {
   "cell_type": "code",
   "execution_count": 5,
   "metadata": {},
   "outputs": [],
   "source": [
    "class Affine:\n",
    "    def __init__(self, W, b):\n",
    "        self.W = W\n",
    "        self.b = b\n",
    "        self.x = None\n",
    "        self.dW = None\n",
    "        self.db = None\n",
    "\n",
    "    def forward(self, x):\n",
    "        ### Type your code below ###\n",
    "        x = x.reshape(x.shape[0], -1)\n",
    "        self.x = x\n",
    "        \n",
    "        out = np.dot(self.x, self.W) + self.b\n",
    "        \n",
    "        return out\n",
    "    \n",
    "    def backward(self, dout):\n",
    "        # 역전파가 이어져야 할 것은 input X에 대한 미분값뿐. (X = 이전 layer의 output이므로)\n",
    "        # W와 b에 대한 미분값은 이 layer의 W와 b를 업데이트할 때 쓰기 위해 이 layer에다 저장해놓으면 됨.\n",
    "        \n",
    "        ### Type your code below ###\n",
    "        dx = np.dot(dout, self.W.T)\n",
    "        self.dW = np.dot(self.x.T, dout)\n",
    "        self.db = np.sum(dout, axis = 0)\n",
    "        \n",
    "        return dx"
   ]
  },
  {
   "cell_type": "markdown",
   "metadata": {},
   "source": [
    "### 1.3. Softmax-with-Loss layer\n",
    "\n",
    "<figure>\n",
    "\n",
    "<img src=\"https://img1.daumcdn.net/thumb/R1280x0/?scode=mtistory2&fname=https%3A%2F%2Fblog.kakaocdn.net%2Fdn%2FrWMeM%2FbtqQptySbcy%2FOcmx41ncd8SD6e7nPhVAkK%2Fimg.png\" width=\"600\">\n",
    "\n",
    "<figcaption align=\"center\"> - Backpropagation of softmax-with-loss layer\n",
    "</figcaption>\n",
    "    \n",
    "</figure>"
   ]
  },
  {
   "cell_type": "code",
   "execution_count": 6,
   "metadata": {},
   "outputs": [],
   "source": [
    "from functions import softmax, cross_entropy_error  # 지난번에 이미 구현했으므로 import해서 씁시다\n",
    "\n",
    "class SoftmaxWithLoss:\n",
    "    def __init__(self):\n",
    "        self.loss = None\n",
    "        self.y = None  # softmax의 출력 (확률 벡터)\n",
    "        self.t = None  # 정답 label (one-hot vector)\n",
    "    \n",
    "    def forward(self, x, t):\n",
    "        ### Type your code below ###\n",
    "        self.t = t\n",
    "        self.y = softmax(x)\n",
    "        self.loss = cross_entropy_error(self.y, self.t)\n",
    "        \n",
    "        return self.loss\n",
    "\n",
    "    def backward(self, dout=1):\n",
    "        # 이 layer의 output이 최종 loss이므로, 상류에서 오는 미분값은 항상 1\n",
    "        \n",
    "        batch_size = self.t.shape[0]  # 구한 dx를 batch_size로 나누어 sample 1개당 오차를 앞 계층으로 전파하는 것 주의!\n",
    "        \n",
    "        ### Type your code below ###\n",
    "        dx = (self.y - self.t) / batch_size\n",
    "        \n",
    "        return dx"
   ]
  },
  {
   "cell_type": "markdown",
   "metadata": {},
   "source": [
    "## 2. Implement Deep Neural Network"
   ]
  },
  {
   "cell_type": "code",
   "execution_count": 7,
   "metadata": {},
   "outputs": [],
   "source": [
    "from gradient import numerical_gradient  # 지난주에 구현했으니 import해서 사용\n",
    "from collections import OrderedDict  # layer들을 순서대로 저장하기 위해 사용\n",
    "\n",
    "class AnyLayerNet:\n",
    "    \"\"\"\n",
    "    원하는 만큼 layer를 추가하여 구현해 보세요.\n",
    "    \"\"\"\n",
    "    def __init__(self, input_size, hidden_size, output_size,\n",
    "                 weight_init_std=0.01):\n",
    "        # Initialize parameters\n",
    "        self.params = {}\n",
    "        self.params['W1'] = weight_init_std * np.random.randn(input_size, hidden_size)\n",
    "        self.params['b1'] = np.zeros(hidden_size)\n",
    "        ### Type your code below ###\n",
    "        self.params['W2'] = weight_init_std * np.random.randn(hidden_size, output_size)\n",
    "        self.params['b2'] = np.zeros(output_size)\n",
    "\n",
    "        # Create layers\n",
    "        self.layers = OrderedDict()  # 순서를 기억하는 dictionary\n",
    "        self.layers['Affine1'] = Affine(self.params['W1'], self.params['b1'])\n",
    "        self.layers['Relu1'] = ReLU()\n",
    "        self.layers['Affine2'] = Affine(self.params['W2'], self.params['b2'])\n",
    "        #self.layers['Relu2'] = ReLU()\n",
    "        ### Type your code below ###\n",
    "\n",
    "        self.lastLayer = SoftmaxWithLoss()\n",
    "\n",
    "    def predict(self, x):\n",
    "        ### Type your code below ###\n",
    "        # Hint: SoftmaxWithLoss layer는 여기서 call하지 않음. (prediction 시에는 logit 값만 내놓으면 되니 그런 듯)\n",
    "        # self.layers에 담긴 layer들의 forward만 call할 것.\n",
    "        \n",
    "        for layer in self.layers.values():\n",
    "            x = layer.forward(x)\n",
    "        return x\n",
    "\n",
    "    def loss(self, x, t):\n",
    "        # x: 입력 데이터, t: 정답 label\n",
    "        \n",
    "        ### Type your code below ###\n",
    "        # Hint: self.predict에서 lastLayer는 call하지 않았으므로, 여기서 따로 call해줄 것.\n",
    "        y = self.predict(x)\n",
    "        return self.lastLayer.forward(y, t)\n",
    "    \n",
    "    def accuracy(self, x, t):\n",
    "        ### Type your code below ###\n",
    "        y = self.predict(x)\n",
    "        y = np.argmax(y, axis = 1)\n",
    "        if t.ndim != 1:\n",
    "            t = np.argmax(t, axis = 1)\n",
    "            \n",
    "        accuracy = np.sum(y == t) / float(x.shape[0])\n",
    "        \n",
    "        return accuracy\n",
    "    \n",
    "    def numerical_gradient(self, x, t):\n",
    "        # 저번주에 구현했으니 그대로 씁시다\n",
    "        \"\"\"다만, Layer를 2층보다 더 추가했다면 아래 code에도 추가해주어야 함!\"\"\"\n",
    "        loss_W = lambda W: self.loss(x, t)\n",
    "\n",
    "        grads = {}\n",
    "        grads['W1'] = numerical_gradient(loss_W, self.params['W1'])\n",
    "        grads['b1'] = numerical_gradient(loss_W, self.params['b1'])\n",
    "        grads['W2'] = numerical_gradient(loss_W, self.params['W2'])\n",
    "        grads['b2'] = numerical_gradient(loss_W, self.params['b2'])\n",
    "        \n",
    "        return grads\n",
    "    \n",
    "    def gradient(self, x, t):\n",
    "        ### Type your code below ###\n",
    "        \n",
    "        # 1. Forward path (calculate loss)\n",
    "        self.loss(x, t)\n",
    "\n",
    "        # 2. Backpropagation\n",
    "        # Hint: self.layers를 list로 만들어 순서를 뒤집은 뒤, for loop\n",
    "\n",
    "        dout = 1  # dL/dL\n",
    "        dout = self.lastLayer.backward(dout)\n",
    "        layers = list(self.layers.values())\n",
    "        layers.reverse()\n",
    "        for layer in layers:\n",
    "            dout = layer.backward(dout)\n",
    "\n",
    "        # grads dictionary에 gradient 저장\n",
    "        grads = {}\n",
    "        grads['W1'], grads['b1'] = self.layers['Affine1'].dW, self.layers['Affine1'].db\n",
    "        grads['W2'], grads['b2'] = self.layers['Affine2'].dW, self.layers['Affine2'].db\n",
    "\n",
    "        return grads"
   ]
  },
  {
   "cell_type": "markdown",
   "metadata": {},
   "source": [
    "## 3. Compare numerical gradient & Backpropagation\n",
    "- 배치 하나로 gradient를 구하는데 각각 얼마나 걸리는지 비교해봅시다"
   ]
  },
  {
   "cell_type": "code",
   "execution_count": 9,
   "metadata": {},
   "outputs": [],
   "source": [
    "from mnist import load_mnist\n",
    "\n",
    "(X_train, y_train), (X_test, y_test) = load_mnist(normalize=True, \n",
    "                                                  flatten=True, \n",
    "                                                  one_hot_label=True)\n",
    "\n",
    "X_batch = X_train[:3]\n",
    "y_batch = y_train[:3]\n",
    "\n",
    "# print(X_batch.shape)\n",
    "# print(y_batch.shape)\n",
    "### Type your code below ###\n",
    "network = AnyLayerNet(input_size = 784, hidden_size = 100, output_size = 10)"
   ]
  },
  {
   "cell_type": "code",
   "execution_count": 35,
   "metadata": {},
   "outputs": [
    {
     "name": "stdout",
     "output_type": "stream",
     "text": [
      "CPU times: user 1min 9s, sys: 2.49 s, total: 1min 12s\n",
      "Wall time: 12.1 s\n"
     ]
    }
   ],
   "source": [
    "%%time\n",
    "# Get gradient with numerical_gradient\n",
    "\n",
    "### Type your code below ###\n",
    "grad_numerical = network.numerical_gradient(X_batch, y_batch)"
   ]
  },
  {
   "cell_type": "code",
   "execution_count": 39,
   "metadata": {},
   "outputs": [
    {
     "name": "stdout",
     "output_type": "stream",
     "text": [
      "CPU times: user 0 ns, sys: 16.2 ms, total: 16.2 ms\n",
      "Wall time: 2.57 ms\n"
     ]
    }
   ],
   "source": [
    "%%time\n",
    "# Get gradient with backrpopagation\n",
    "\n",
    "### Type your code below ###\n",
    "grad_backprop = network.gradient(X_batch, y_batch)"
   ]
  },
  {
   "cell_type": "markdown",
   "metadata": {},
   "source": [
    "## 4. Train Network\n",
    "    - Backpropagation을 통해 모델을 트레이닝하고,\n",
    "    - Epoch별 Train accuracy, Test accuracy를 plotting해보세요."
   ]
  },
  {
   "cell_type": "code",
   "execution_count": 10,
   "metadata": {},
   "outputs": [
    {
     "name": "stdout",
     "output_type": "stream",
     "text": [
      "60000\n",
      "0.10106666666666667 0.1\n",
      "0.9033666666666667 0.9063\n",
      "0.9265833333333333 0.9287\n",
      "0.9389666666666666 0.9374\n",
      "0.9489 0.9469\n",
      "0.956 0.9532\n",
      "0.9602166666666667 0.9574\n",
      "0.9655333333333334 0.9613\n",
      "0.9687333333333333 0.9649\n",
      "0.97165 0.9674\n",
      "0.9751666666666666 0.9695\n",
      "0.9768666666666667 0.9704\n",
      "0.9786666666666667 0.9713\n",
      "0.9803 0.9731\n",
      "0.9813166666666666 0.9733\n",
      "0.9829333333333333 0.9736\n",
      "0.9835333333333334 0.9734\n"
     ]
    }
   ],
   "source": [
    "# 데이터 읽기\n",
    "(X_train, y_train), (X_test, y_test) = load_mnist(normalize=True,\n",
    "                                                  flatten=True,\n",
    "                                                  one_hot_label=True)\n",
    "\n",
    "\n",
    "### Type your code below ###\n",
    "network = AnyLayerNet(input_size = 784, hidden_size = 100, output_size = 10)\n",
    "\n",
    "iters_num = 10000\n",
    "train_size = X_train.shape[0]\n",
    "print(train_size)\n",
    "batch_size = 100\n",
    "learning_rate = 0.1\n",
    "\n",
    "train_loss_list = []\n",
    "train_acc_list = []\n",
    "test_acc_list = []\n",
    "\n",
    "iter_per_epoch = max(train_size / batch_size, 1)\n",
    "\n",
    "for i in range(iters_num):\n",
    "    # 미니배치\n",
    "    batch_mask = np.random.choice(train_size, batch_size)\n",
    "    X_batch = X_train[batch_mask]\n",
    "    y_batch = y_train[batch_mask]\n",
    "    \n",
    "    # 기울기 계산\n",
    "    grad = network.gradient(X_batch, y_batch)\n",
    "    \n",
    "    # 파라미터 갱신\n",
    "    for key in ('W1', 'b1', 'W2', 'b2'):\n",
    "        network.params[key] -= learning_rate * grad[key]\n",
    "    \n",
    "    # Loss 계산하여 list에 추가\n",
    "    loss = network.loss(X_batch, y_batch)\n",
    "    train_loss_list.append(loss)\n",
    "    \n",
    "    if i % iter_per_epoch == 0:\n",
    "        # 매 epoch마다, accuracy를 계산하여 list에 추가하고 print\n",
    "        train_acc = network.accuracy(X_train, y_train)\n",
    "        test_acc = network.accuracy(X_test, y_test)\n",
    "        train_acc_list.append(train_acc)\n",
    "        test_acc_list.append(test_acc)\n",
    "        print (train_acc, test_acc)"
   ]
  },
  {
   "cell_type": "code",
   "execution_count": 58,
   "metadata": {},
   "outputs": [
    {
     "data": {
      "image/png": "[encoded data removed]",
      "text/plain": [
       "<Figure size 432x288 with 1 Axes>"
      ]
     },
     "metadata": {
      "needs_background": "light"
     },
     "output_type": "display_data"
    }
   ],
   "source": [
    "import matplotlib.pyplot as plt\n",
    "\n",
    "### Type your code below ###\n",
    "\n",
    "x = np.arange(len(train_acc_list))\n",
    "\n",
    "plt.plot(x, train_acc_list, label = 'train_acc')\n",
    "plt.plot(x, test_acc_list, label = 'test_acc')\n",
    "plt.xlabel('epochs')\n",
    "plt.ylabel('accuracy')\n",
    "plt.ylim(0, 1.0)\n",
    "plt.legend(loc = 'lower right')\n",
    "plt.show()"
   ]
  },
  {
   "cell_type": "code",
   "execution_count": null,
   "metadata": {},
   "outputs": [],
   "source": []
  }
 ],
 "metadata": {
  "kernelspec": {
   "display_name": "Python 3",
   "language": "python",
   "name": "python3"
  },
  "language_info": {
   "codemirror_mode": {
    "name": "ipython",
    "version": 3
   },
   "file_extension": ".py",
   "mimetype": "text/x-python",
   "name": "python",
   "nbconvert_exporter": "python",
   "pygments_lexer": "ipython3",
   "version": "3.7.4"
  }
 },
 "nbformat": 4,
 "nbformat_minor": 4
}
