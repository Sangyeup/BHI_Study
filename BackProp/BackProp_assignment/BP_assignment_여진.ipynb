{
  "cells": [
    {
      "cell_type": "markdown",
      "metadata": {
        "id": "view-in-github",
        "colab_type": "text"
      },
      "source": [
        "<a href=\"https://colab.research.google.com/github/Sangyeup/BHI_Study/blob/main/BP_assignment_%EC%97%AC%EC%A7%84.ipynb\" target=\"_parent\"><img src=\"https://colab.research.google.com/assets/colab-badge.svg\" alt=\"Open In Colab\"/></a>"
      ]
    },
    {
      "cell_type": "markdown",
      "metadata": {
        "id": "YU-5LJ82B2Uj"
      },
      "source": [
        "# Model training with Backpropagation\n",
        "\n",
        "- 막히는 부분 있으면, https://github.com/WegraLee/deep-learning-from-scratch/tree/master/ch05 참고!"
      ]
    },
    {
      "cell_type": "code",
      "source": [
        "! git clone https://github.com/WegraLee/deep-learning-from-scratch.git"
      ],
      "metadata": {
        "colab": {
          "base_uri": "https://localhost:8080/"
        },
        "id": "A8nM1K9SnBNe",
        "outputId": "1b8eba6a-9924-4832-c99f-db8bdce91ba6"
      },
      "execution_count": 1,
      "outputs": [
        {
          "output_type": "stream",
          "name": "stdout",
          "text": [
            "Cloning into 'deep-learning-from-scratch'...\n",
            "remote: Enumerating objects: 826, done.\u001b[K\n",
            "remote: Total 826 (delta 0), reused 0 (delta 0), pack-reused 826\u001b[K\n",
            "Receiving objects: 100% (826/826), 52.21 MiB | 28.36 MiB/s, done.\n",
            "Resolving deltas: 100% (477/477), done.\n"
          ]
        }
      ]
    },
    {
      "cell_type": "code",
      "source": [
        "import os\n",
        "os.chdir('/content/deep-learning-from-scratch')\n",
        "!pwd"
      ],
      "metadata": {
        "colab": {
          "base_uri": "https://localhost:8080/"
        },
        "id": "KHV0AKv3nEF5",
        "outputId": "13235736-21a2-4240-a278-c39e1e893a73"
      },
      "execution_count": 2,
      "outputs": [
        {
          "output_type": "stream",
          "name": "stdout",
          "text": [
            "/content/deep-learning-from-scratch\n"
          ]
        }
      ]
    },
    {
      "cell_type": "code",
      "source": [
        "from google.colab import drive\n",
        "drive.mount('/content/drive')"
      ],
      "metadata": {
        "colab": {
          "base_uri": "https://localhost:8080/"
        },
        "id": "RZZjqgj7nMip",
        "outputId": "49a2f40e-7038-46e5-c5a8-7e009f88121a"
      },
      "execution_count": 3,
      "outputs": [
        {
          "output_type": "stream",
          "name": "stdout",
          "text": [
            "Mounted at /content/drive\n"
          ]
        }
      ]
    },
    {
      "cell_type": "code",
      "source": [
        "import sys, os\n",
        "sys.path.append(os.pardir)  # 상위 경로에 있는 functions, gradient 등을 import할 수 있게\n",
        "\n",
        "import numpy as np"
      ],
      "metadata": {
        "id": "g6fTaLttnSVu"
      },
      "execution_count": 4,
      "outputs": []
    },
    {
      "cell_type": "markdown",
      "metadata": {
        "id": "JAl-lspNB2Up"
      },
      "source": [
        "## 1. Define layers as class\n",
        "\n",
        "* All layers have three methods\n",
        "    - `__init__(self, ...)`\n",
        "    - `forward(self, x)`\n",
        "    - `backward(self, dout)`"
      ]
    },
    {
      "cell_type": "markdown",
      "metadata": {
        "id": "kK81Bjn3B2Uq"
      },
      "source": [
        "### 1.1. Activation layers\n",
        "- ReLU\n",
        "- Sigmoid"
      ]
    },
    {
      "cell_type": "markdown",
      "metadata": {
        "id": "3-9Q8WLNB2Ur"
      },
      "source": [
        "<figure>\n",
        "\n",
        "<img src=\"https://i.imgur.com/FrxDrr5.png\" width=\"600\">\n",
        "\n",
        "<figcaption align=\"center\"> - Backpropagation of relu node\n",
        "</figcaption>\n",
        "    \n",
        "</figure>"
      ]
    },
    {
      "cell_type": "code",
      "execution_count": 5,
      "metadata": {
        "id": "WN8Mz4-2B2Ur"
      },
      "outputs": [],
      "source": [
        "class ReLU:\n",
        "    def __init__(self):\n",
        "        self.mask = None  # input에서 어떤 원소가 0 이하인지 저장하는 mask\n",
        "    \n",
        "    def forward(self, x):\n",
        "        self.mask = (x<=0)\n",
        "        out = x.copy()\n",
        "        out[self.mask] = 0\n",
        "        return out\n",
        "    \n",
        "    def backward(self, dout):\n",
        "        dout[self.mask] = 0\n",
        "        dx = dout\n",
        "        return dx"
      ]
    },
    {
      "cell_type": "markdown",
      "metadata": {
        "id": "jSVwjJ72B2Us"
      },
      "source": [
        "<figure>\n",
        "\n",
        "<img src=\"https://i.imgur.com/riURjqG.png\" width=\"500\">\n",
        "\n",
        "<figcaption align=\"center\"> - Backpropagation of sigmoid node\n",
        "</figcaption>\n",
        "    \n",
        "</figure>"
      ]
    },
    {
      "cell_type": "code",
      "execution_count": 7,
      "metadata": {
        "id": "CHNgdSrmB2Ut"
      },
      "outputs": [],
      "source": [
        "class Sigmoid:\n",
        "    def __init__(self):\n",
        "        self.out = None\n",
        "    \n",
        "    def forward(self, x):\n",
        "        out = 1/(1+np.exp(-x))\n",
        "        self.out = out\n",
        "        return out\n",
        "  \n",
        "    def backward(self, dout):\n",
        "        dx = dout*(1.0-self.out)*self.out\n",
        "        return dx\n"
      ]
    },
    {
      "cell_type": "markdown",
      "metadata": {
        "id": "XJunRTu_B2Uu"
      },
      "source": [
        "### 1.2. Affine layer\n",
        "\n",
        "<figure>\n",
        "\n",
        "<img src=\"https://img1.daumcdn.net/thumb/R1280x0/?scode=mtistory2&fname=http%3A%2F%2Fcfile7.uf.tistory.com%2Fimage%2F994510365B98F75122F136\" width=\"600\">\n",
        "\n",
        "<figcaption align=\"center\"> - Backpropagation of affine layer\n",
        "</figcaption>\n",
        "    \n",
        "</figure>"
      ]
    },
    {
      "cell_type": "code",
      "execution_count": 6,
      "metadata": {
        "id": "AEiluYX6B2Uu"
      },
      "outputs": [],
      "source": [
        "class Affine:\n",
        "    def __init__(self, W, b):\n",
        "        self.W = W\n",
        "        self.b = b\n",
        "        self.x = None\n",
        "        self.dW = None\n",
        "        self.db = None\n",
        "\n",
        "    def forward(self, x):\n",
        "        self.x = x\n",
        "        out = np.dot(x, self.W)+self.b\n",
        "        return out\n",
        "    \n",
        "    def backward(self, dout):\n",
        "        dx = np.dot(dout, self.W.T)\n",
        "        self.dW = np.dot(self.x.T, dout)\n",
        "        self.db = np.sum(dout, axis = 0)\n",
        "        return dx"
      ]
    },
    {
      "cell_type": "markdown",
      "metadata": {
        "id": "_vaLIOWEB2Uv"
      },
      "source": [
        "### 1.3. Softmax-with-Loss layer\n",
        "\n",
        "<figure>\n",
        "\n",
        "<img src=\"https://img1.daumcdn.net/thumb/R1280x0/?scode=mtistory2&fname=https%3A%2F%2Fblog.kakaocdn.net%2Fdn%2FrWMeM%2FbtqQptySbcy%2FOcmx41ncd8SD6e7nPhVAkK%2Fimg.png\" width=\"600\">\n",
        "\n",
        "<figcaption align=\"center\"> - Backpropagation of softmax-with-loss layer\n",
        "</figcaption>\n",
        "    \n",
        "</figure>"
      ]
    },
    {
      "cell_type": "code",
      "execution_count": 8,
      "metadata": {
        "id": "Uvz0AG8iB2Uw"
      },
      "outputs": [],
      "source": [
        "from common.functions import softmax, cross_entropy_error  # 지난번에 이미 구현했으므로 import해서 씁시다\n",
        "\n",
        "class SoftmaxWithLoss:\n",
        "    def __init__(self):\n",
        "        self.loss = None\n",
        "        self.y = None  # softmax의 출력 (확률 벡터)\n",
        "        self.t = None  # 정답 label (one-hot vector)\n",
        "    \n",
        "    def forward(self, x, t):\n",
        "        self.t = t\n",
        "        self.y = softmax(x)\n",
        "        self.loss = cross_entropy_error(self.y, self.t)\n",
        "        return self.loss\n",
        "\n",
        "    def backward(self, dout=1):\n",
        "        # 이 layer의 output이 최종 loss이므로, 상류에서 오는 미분값은 항상 1\n",
        "        \n",
        "        batch_size = self.t.shape[0]  # 구한 dx를 batch_size로 나누어 sample 1개당 오차를 앞 계층으로 전파하는 것 주의!\n",
        "        dx = (self.y-self.t)/batch_size\n",
        "        return dx"
      ]
    },
    {
      "cell_type": "markdown",
      "metadata": {
        "id": "0p8rx1THB2Ux"
      },
      "source": [
        "## 2. Implement Deep Neural Network"
      ]
    },
    {
      "cell_type": "code",
      "execution_count": 9,
      "metadata": {
        "id": "f187bOGWB2Ux"
      },
      "outputs": [],
      "source": [
        "from common.gradient import numerical_gradient  # 지난주에 구현했으니 import해서 사용\n",
        "from collections import OrderedDict  # layer들을 순서대로 저장하기 위해 사용\n",
        "\n",
        "class AnyLayerNet:\n",
        "    \"\"\"\n",
        "    원하는 만큼 layer를 추가하여 구현해 보세요.\n",
        "    \"\"\"\n",
        "    def __init__(self, input_size, hidden_size, output_size,\n",
        "                 weight_init_std=0.01):\n",
        "        # Initialize parameters\n",
        "        self.params = {}\n",
        "        self.params['W1'] = weight_init_std * np.random.randn(input_size, hidden_size)\n",
        "        self.params['b1'] = np.zeros(hidden_size)\n",
        "        self.params['W2'] = weight_init_std*np.random.randn(hidden_size, output_size)\n",
        "        self.params['b2'] = np.zeros(output_size)\n",
        "\n",
        "        # Create layers\n",
        "        self.layers = OrderedDict()  # 순서를 기억하는 dictionary\n",
        "        self.layers['Affine1'] = Affine(self.params['W1'], self.params['b1'])\n",
        "        self.layers['Relu1'] = ReLU()\n",
        "        self.layers['Affine2'] = Affine(self.params['W2'], self.params['b2'])\n",
        "\n",
        "        self.lastLayer = SoftmaxWithLoss()\n",
        "\n",
        "    def predict(self, x):\n",
        "        ### Type your code below ###\n",
        "        # Hint: SoftmaxWithLoss layer는 여기서 call하지 않음. (prediction 시에는 logit 값만 내놓으면 되니 그런 듯)\n",
        "        # self.layers에 담긴 layer들의 forward만 call할 것.\n",
        "        \n",
        "        for layer in self.layers.values():\n",
        "            x = layer.forward(x)\n",
        "        \n",
        "        return x\n",
        "\n",
        "    def loss(self, x, t):\n",
        "        # x: 입력 데이터, t: 정답 label\n",
        "        \n",
        "        y = self.predict(x)\n",
        "        # Hint: self.predict에서 lastLayer는 call하지 않았으므로, 여기서 따로 call해줄 것.\n",
        "        \n",
        "        return self.lastLayer.forward(y, t)\n",
        "    \n",
        "    def accuracy(self, x, t):\n",
        "        y = self.predict(x)\n",
        "        y = np.argmax(y, axis = 1)\n",
        "        if t.ndim != 1: t=np.argmax(t, axis=1)\n",
        "        accuracy = np.sum(y==t) / float(x.shape[0])\n",
        "        return accuracy\n",
        "    \n",
        "    def numerical_gradient(self, x, t):\n",
        "        # 저번주에 구현했으니 그대로 씁시다\n",
        "        \"\"\"다만, Layer를 2층보다 더 추가했다면 아래 code에도 추가해주어야 함!\"\"\"\n",
        "        loss_W = lambda W: self.loss(x, t)\n",
        "\n",
        "        grads = {}\n",
        "        grads['W1'] = numerical_gradient(loss_W, self.params['W1'])\n",
        "        grads['b1'] = numerical_gradient(loss_W, self.params['b1'])\n",
        "        grads['W2'] = numerical_gradient(loss_W, self.params['W2'])\n",
        "        grads['b2'] = numerical_gradient(loss_W, self.params['b2'])\n",
        "        \n",
        "        return grads\n",
        "    \n",
        "    def gradient(self, x, t):\n",
        "        self.loss(x, t)\n",
        "\n",
        "        dout = 1\n",
        "        dout = self.lastLayer.backward(dout)\n",
        "        layers = list(self.layers.values())\n",
        "        layers.reverse()\n",
        "        for layer in layers:\n",
        "          dout = layer.backward(dout)\n",
        "        \n",
        "        grads = {}\n",
        "        grads['W1'] = self.layers['Affine1'].dW\n",
        "        grads['b1'] = self.layers['Affine1'].db\n",
        "        grads['W2'] = self.layers['Affine2'].dW\n",
        "        grads['b2'] = self.layers['Affine2'].db\n",
        "\n",
        "        return grads"
      ]
    },
    {
      "cell_type": "markdown",
      "metadata": {
        "id": "1siWEOZyB2U0"
      },
      "source": [
        "## 3. Compare numerical gradient & Backpropagation\n",
        "- 배치 하나로 gradient를 구하는데 각각 얼마나 걸리는지 비교해봅시다"
      ]
    },
    {
      "cell_type": "code",
      "execution_count": 10,
      "metadata": {
        "id": "Bfj8w3tgB2U1",
        "colab": {
          "base_uri": "https://localhost:8080/"
        },
        "outputId": "6e2e82ca-db76-4d71-c876-32376ee33376"
      },
      "outputs": [
        {
          "output_type": "stream",
          "name": "stdout",
          "text": [
            "Converting train-images-idx3-ubyte.gz to NumPy Array ...\n",
            "Done\n",
            "Converting train-labels-idx1-ubyte.gz to NumPy Array ...\n",
            "Done\n",
            "Converting t10k-images-idx3-ubyte.gz to NumPy Array ...\n",
            "Done\n",
            "Converting t10k-labels-idx1-ubyte.gz to NumPy Array ...\n",
            "Done\n",
            "Creating pickle file ...\n",
            "Done!\n"
          ]
        }
      ],
      "source": [
        "from dataset.mnist import load_mnist\n",
        "\n",
        "(X_train, y_train), (X_test, y_test) = load_mnist(normalize=True, flatten=True, one_hot_label=True)\n",
        "\n",
        "X_batch = X_train[:64]\n",
        "y_batch = y_train[:64]\n",
        "\n",
        "network = AnyLayerNet(input_size=784, hidden_size=50, output_size=10)"
      ]
    },
    {
      "cell_type": "code",
      "execution_count": 11,
      "metadata": {
        "id": "0hG3RY-bB2U2",
        "outputId": "be5fd457-a44f-4040-cb48-414edfbd9573",
        "colab": {
          "base_uri": "https://localhost:8080/"
        }
      },
      "outputs": [
        {
          "output_type": "stream",
          "name": "stdout",
          "text": [
            "CPU times: user 1min 5s, sys: 31 s, total: 1min 36s\n",
            "Wall time: 49.5 s\n"
          ]
        }
      ],
      "source": [
        "%%time\n",
        "# Get gradient with numerical_gradient\n",
        "grad_numerical = network.numerical_gradient(X_batch, y_batch)\n"
      ]
    },
    {
      "cell_type": "code",
      "execution_count": 12,
      "metadata": {
        "id": "TbmPf6CwB2U4",
        "outputId": "601c6d9a-0856-4cfc-e643-51500332a571",
        "colab": {
          "base_uri": "https://localhost:8080/"
        }
      },
      "outputs": [
        {
          "output_type": "stream",
          "name": "stdout",
          "text": [
            "CPU times: user 5.37 ms, sys: 1.19 ms, total: 6.56 ms\n",
            "Wall time: 5.21 ms\n"
          ]
        }
      ],
      "source": [
        "%%time\n",
        "# Get gradient with backrpopagation\n",
        "\n",
        "grad_backprop = network.gradient(X_batch, y_batch)\n"
      ]
    },
    {
      "cell_type": "markdown",
      "metadata": {
        "id": "zkgVJjzqB2U4"
      },
      "source": [
        "## 4. Train Network\n",
        "    - Backpropagation을 통해 모델을 트레이닝하고,\n",
        "    - Epoch별 Train accuracy, Test accuracy를 plotting해보세요."
      ]
    },
    {
      "cell_type": "code",
      "execution_count": 13,
      "metadata": {
        "id": "bwFG55JVB2U5",
        "outputId": "f74b37ae-1e8b-4737-b6eb-ccc1efa2d240",
        "colab": {
          "base_uri": "https://localhost:8080/"
        }
      },
      "outputs": [
        {
          "output_type": "stream",
          "name": "stdout",
          "text": [
            "0.1162 0.1224\n",
            "0.9032333333333333 0.9073\n",
            "0.92415 0.925\n",
            "0.9350166666666667 0.935\n",
            "0.9450166666666666 0.9454\n",
            "0.9466666666666667 0.946\n",
            "0.9562666666666667 0.9533\n",
            "0.96115 0.957\n",
            "0.9618166666666667 0.957\n",
            "0.9653666666666667 0.9604\n",
            "0.9668833333333333 0.9621\n",
            "0.9717666666666667 0.9661\n",
            "0.9716166666666667 0.9664\n",
            "0.97465 0.9696\n",
            "0.9754166666666667 0.969\n",
            "0.97425 0.968\n",
            "0.9786666666666667 0.9697\n"
          ]
        }
      ],
      "source": [
        "# 데이터 읽기\n",
        "(X_train, y_train), (X_test, y_test) = load_mnist(normalize=True,\n",
        "                                                  flatten=True,\n",
        "                                                  one_hot_label=True)\n",
        "\n",
        "\n",
        "### Type your code below ###\n",
        "network = AnyLayerNet(input_size = 784, hidden_size = 50, output_size = 10)\n",
        "\n",
        "iters_num = 10000\n",
        "train_size = X_train.shape[0]\n",
        "batch_size = 100\n",
        "learning_rate = 0.1\n",
        "\n",
        "train_loss_list = []\n",
        "train_acc_list = []\n",
        "test_acc_list = []\n",
        "\n",
        "iter_per_epoch = max(train_size/batch_size, 1)\n",
        "\n",
        "for i in range(iters_num):\n",
        "  batch_mask = np.random.choice(train_size, batch_size)\n",
        "  x_batch = X_train[batch_mask]\n",
        "  t_batch = y_train[batch_mask]\n",
        "\n",
        "  grad = network.gradient(x_batch, t_batch)\n",
        "  for key in ('W1', 'b1', 'W2', 'b2'):\n",
        "    network.params[key] -= learning_rate*grad[key]\n",
        "  \n",
        "  loss = network.loss(x_batch, t_batch)\n",
        "  train_loss_list.append(loss)\n",
        "\n",
        "  if i%iter_per_epoch == 0:\n",
        "    train_acc = network.accuracy(X_train, y_train)\n",
        "    test_acc = network.accuracy(X_test, y_test)\n",
        "    train_acc_list.append(train_acc)\n",
        "    test_acc_list.append(test_acc)\n",
        "    print(train_acc, test_acc)"
      ]
    },
    {
      "cell_type": "code",
      "execution_count": 17,
      "metadata": {
        "id": "XmB8UTvhB2U5",
        "colab": {
          "base_uri": "https://localhost:8080/",
          "height": 295
        },
        "outputId": "e7c01338-19ad-4e37-9159-a7ccd13d4fdb"
      },
      "outputs": [
        {
          "output_type": "display_data",
          "data": {
            "text/plain": [
              "<Figure size 432x288 with 1 Axes>"
            ],
            "image/png": "[encoded data removed]"
          },
          "metadata": {
            "needs_background": "light"
          }
        }
      ],
      "source": [
        "import matplotlib.pyplot as plt\n",
        "plt.title(\"Accuracy\")\n",
        "plt.xlabel(\"epochs\")\n",
        "plt.ylabel(\"accuracy\")\n",
        "plt.plot(train_acc_list, label = 'train acc')\n",
        "plt.plot(test_acc_list, label = 'test acc', linestyle = '--')\n",
        "plt.legend(loc = 'best')\n",
        "plt.show()\n",
        "\n"
      ]
    }
  ],
  "metadata": {
    "kernelspec": {
      "display_name": "Python 3",
      "language": "python",
      "name": "python3"
    },
    "language_info": {
      "codemirror_mode": {
        "name": "ipython",
        "version": 3
      },
      "file_extension": ".py",
      "mimetype": "text/x-python",
      "name": "python",
      "nbconvert_exporter": "python",
      "pygments_lexer": "ipython3",
      "version": "3.7.4"
    },
    "colab": {
      "name": "BP_assignment_여진.ipynb",
      "provenance": [],
      "collapsed_sections": [],
      "include_colab_link": true
    }
  },
  "nbformat": 4,
  "nbformat_minor": 0
}
