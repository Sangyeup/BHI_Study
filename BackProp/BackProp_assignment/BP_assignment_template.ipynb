{
 "cells": [
  {
   "cell_type": "markdown",
   "metadata": {},
   "source": [
    "# Model training with Backpropagation\n",
    "\n",
    "- 막히는 부분 있으면, https://github.com/WegraLee/deep-learning-from-scratch/tree/master/ch05 참고!"
   ]
  },
  {
   "cell_type": "code",
   "execution_count": 27,
   "metadata": {},
   "outputs": [],
   "source": [
    "import sys, os\n",
    "sys.path.append(os.pardir)  # 상위 경로에 있는 functions, gradient 등을 import할 수 있게\n",
    "\n",
    "import numpy as np"
   ]
  },
  {
   "cell_type": "markdown",
   "metadata": {},
   "source": [
    "## 1. Define layers as class\n",
    "\n",
    "* All layers have three methods\n",
    "    - `__init__(self, ...)`\n",
    "    - `forward(self, x)`\n",
    "    - `backward(self, dout)`"
   ]
  },
  {
   "cell_type": "markdown",
   "metadata": {},
   "source": [
    "### 1.1. Activation layers\n",
    "- ReLU\n",
    "- Sigmoid"
   ]
  },
  {
   "cell_type": "markdown",
   "metadata": {},
   "source": [
    "<figure>\n",
    "\n",
    "<img src=\"https://i.imgur.com/FrxDrr5.png\" width=\"600\">\n",
    "\n",
    "<figcaption align=\"center\"> - Backpropagation of relu node\n",
    "</figcaption>\n",
    "    \n",
    "</figure>"
   ]
  },
  {
   "cell_type": "code",
   "execution_count": 10,
   "metadata": {},
   "outputs": [],
   "source": [
    "class ReLU:\n",
    "    def __init__(self):\n",
    "        self.mask = None  # input에서 어떤 원소가 0 이하인지 저장하는 mask\n",
    "    \n",
    "    def forward(self, x):\n",
    "        ### Type your code below ###\n",
    "        \n",
    "        return None\n",
    "    \n",
    "    def backward(self, dout):\n",
    "        ### Type your code below ###\n",
    "\n",
    "        return None"
   ]
  },
  {
   "cell_type": "markdown",
   "metadata": {},
   "source": [
    "<figure>\n",
    "\n",
    "<img src=\"https://i.imgur.com/riURjqG.png\" width=\"500\">\n",
    "\n",
    "<figcaption align=\"center\"> - Backpropagation of sigmoid node\n",
    "</figcaption>\n",
    "    \n",
    "</figure>"
   ]
  },
  {
   "cell_type": "code",
   "execution_count": 28,
   "metadata": {},
   "outputs": [],
   "source": [
    "class Sigmoid:\n",
    "    def __init__(self):\n",
    "        self.out = None\n",
    "    \n",
    "    def forward(self, x):\n",
    "        ### Type your code below ###\n",
    "        \n",
    "        return None\n",
    "    \n",
    "    def backward(self, dout):\n",
    "        ### Type your code below ###\n",
    "        \n",
    "        return None"
   ]
  },
  {
   "cell_type": "markdown",
   "metadata": {},
   "source": [
    "### 1.2. Affine layer\n",
    "\n",
    "<figure>\n",
    "\n",
    "<img src=\"https://img1.daumcdn.net/thumb/R1280x0/?scode=mtistory2&fname=http%3A%2F%2Fcfile7.uf.tistory.com%2Fimage%2F994510365B98F75122F136\" width=\"600\">\n",
    "\n",
    "<figcaption align=\"center\"> - Backpropagation of affine layer\n",
    "</figcaption>\n",
    "    \n",
    "</figure>"
   ]
  },
  {
   "cell_type": "code",
   "execution_count": 12,
   "metadata": {},
   "outputs": [],
   "source": [
    "class Affine:\n",
    "    def __init__(self, W, b):\n",
    "        self.W = W\n",
    "        self.b = b\n",
    "        self.x = None\n",
    "        self.dW = None\n",
    "        self.db = None\n",
    "\n",
    "    def forward(self, x):\n",
    "        ### Type your code below ###\n",
    "        \n",
    "        return None\n",
    "    \n",
    "    def backward(self, dout):\n",
    "        # 역전파가 이어져야 할 것은 input X에 대한 미분값뿐. (X = 이전 layer의 output이므로)\n",
    "        # W와 b에 대한 미분값은 이 layer의 W와 b를 업데이트할 때 쓰기 위해 이 layer에다 저장해놓으면 됨.\n",
    "        \n",
    "        ### Type your code below ###\n",
    "        \n",
    "        return None"
   ]
  },
  {
   "cell_type": "markdown",
   "metadata": {},
   "source": [
    "### 1.3. Softmax-with-Loss layer\n",
    "\n",
    "<figure>\n",
    "\n",
    "<img src=\"https://img1.daumcdn.net/thumb/R1280x0/?scode=mtistory2&fname=https%3A%2F%2Fblog.kakaocdn.net%2Fdn%2FrWMeM%2FbtqQptySbcy%2FOcmx41ncd8SD6e7nPhVAkK%2Fimg.png\" width=\"600\">\n",
    "\n",
    "<figcaption align=\"center\"> - Backpropagation of softmax-with-loss layer\n",
    "</figcaption>\n",
    "    \n",
    "</figure>"
   ]
  },
  {
   "cell_type": "code",
   "execution_count": 29,
   "metadata": {},
   "outputs": [],
   "source": [
    "from functions import softmax, cross_entropy_error  # 지난번에 이미 구현했으므로 import해서 씁시다\n",
    "\n",
    "class SoftmaxWithLoss:\n",
    "    def __init__(self):\n",
    "        self.loss = None\n",
    "        self.y = None  # softmax의 출력 (확률 벡터)\n",
    "        self.t = None  # 정답 label (one-hot vector)\n",
    "    \n",
    "    def forward(self, x, t):\n",
    "        ### Type your code below ###\n",
    "        \n",
    "        return None\n",
    "\n",
    "    def backward(self, dout=1):\n",
    "        # 이 layer의 output이 최종 loss이므로, 상류에서 오는 미분값은 항상 1\n",
    "        \n",
    "        batch_size = self.t.shape[0]  # 구한 dx를 batch_size로 나누어 sample 1개당 오차를 앞 계층으로 전파하는 것 주의!\n",
    "        \n",
    "        ### Type your code below ###\n",
    "        \n",
    "        return None"
   ]
  },
  {
   "cell_type": "markdown",
   "metadata": {},
   "source": [
    "## 2. Implement Deep Neural Network"
   ]
  },
  {
   "cell_type": "code",
   "execution_count": 20,
   "metadata": {},
   "outputs": [],
   "source": [
    "from gradient import numerical_gradient  # 지난주에 구현했으니 import해서 사용\n",
    "from collections import OrderedDict  # layer들을 순서대로 저장하기 위해 사용\n",
    "\n",
    "class AnyLayerNet:\n",
    "    \"\"\"\n",
    "    원하는 만큼 layer를 추가하여 구현해 보세요.\n",
    "    \"\"\"\n",
    "    def __init__(self, input_size, hidden_size, output_size,\n",
    "                 weight_init_std=0.01):\n",
    "        # Initialize parameters\n",
    "        self.params = {}\n",
    "        self.params['W1'] = weight_init_std * np.random.randn(input_size, hidden_size)\n",
    "        self.params['b1'] = np.zeros(hidden_size)\n",
    "        ### Type your code below ###\n",
    "\n",
    "        # Create layers\n",
    "        self.layers = OrderedDict()  # 순서를 기억하는 dictionary\n",
    "        self.layers['Affine1'] = Affine(self.params['W1'], self.params['b1'])\n",
    "        self.layers['Relu1'] = ReLU()\n",
    "        ### Type your code below ###\n",
    "\n",
    "        self.lastLayer = SoftmaxWithLoss()\n",
    "\n",
    "    def predict(self, x):\n",
    "        ### Type your code below ###\n",
    "        # Hint: SoftmaxWithLoss layer는 여기서 call하지 않음. (prediction 시에는 logit 값만 내놓으면 되니 그런 듯)\n",
    "        # self.layers에 담긴 layer들의 forward만 call할 것.\n",
    "        \n",
    "        for layer in self.layers.values():\n",
    "            pass\n",
    "        \n",
    "        return None\n",
    "\n",
    "    def loss(self, x, t):\n",
    "        # x: 입력 데이터, t: 정답 label\n",
    "        \n",
    "        ### Type your code below ###\n",
    "        # Hint: self.predict에서 lastLayer는 call하지 않았으므로, 여기서 따로 call해줄 것.\n",
    "        \n",
    "        return None\n",
    "    \n",
    "    def accuracy(self, x, t):\n",
    "        ### Type your code below ###\n",
    "        \n",
    "        return None\n",
    "    \n",
    "    def numerical_gradient(self, x, t):\n",
    "        # 저번주에 구현했으니 그대로 씁시다\n",
    "        \"\"\"다만, Layer를 2층보다 더 추가했다면 아래 code에도 추가해주어야 함!\"\"\"\n",
    "        loss_W = lambda W: self.loss(x, t)\n",
    "\n",
    "        grads = {}\n",
    "        grads['W1'] = numerical_gradient(loss_W, self.params['W1'])\n",
    "        grads['b1'] = numerical_gradient(loss_W, self.params['b1'])\n",
    "        grads['W2'] = numerical_gradient(loss_W, self.params['W2'])\n",
    "        grads['b2'] = numerical_gradient(loss_W, self.params['b2'])\n",
    "        \n",
    "        return grads\n",
    "    \n",
    "    def gradient(self, x, t):\n",
    "        ### Type your code below ###\n",
    "        \n",
    "        # 1. Forward path (calculate loss)\n",
    "        pass\n",
    "\n",
    "        # 2. Backpropagation\n",
    "        # Hint: self.layers를 list로 만들어 순서를 뒤집은 뒤, for loop\n",
    "  \n",
    "        dout = 1  # dL/dL\n",
    "        pass\n",
    "\n",
    "        # grads dictionary에 gradient 저장\n",
    "        grads = {}\n",
    "        pass\n",
    "\n",
    "        return grads"
   ]
  },
  {
   "cell_type": "markdown",
   "metadata": {},
   "source": [
    "## 3. Compare numerical gradient & Backpropagation\n",
    "- 배치 하나로 gradient를 구하는데 각각 얼마나 걸리는지 비교해봅시다"
   ]
  },
  {
   "cell_type": "code",
   "execution_count": 22,
   "metadata": {},
   "outputs": [],
   "source": [
    "from mnist import load_mnist\n",
    "\n",
    "(X_train, y_train), (X_test, y_test) = load_mnist(normalize=True, \n",
    "                                                  flatten=True, \n",
    "                                                  one_hot_label=True)\n",
    "\n",
    "X_batch = X_train[:64]\n",
    "y_batch = y_train[:64]\n",
    "\n",
    "### Type your code below ###\n",
    "network = AnyLayerNet(...)"
   ]
  },
  {
   "cell_type": "code",
   "execution_count": 25,
   "metadata": {},
   "outputs": [
    {
     "name": "stdout",
     "output_type": "stream",
     "text": [
      "CPU times: user 2 µs, sys: 0 ns, total: 2 µs\n",
      "Wall time: 5.25 µs\n"
     ]
    }
   ],
   "source": [
    "%%time\n",
    "# Get gradient with numerical_gradient\n",
    "\n",
    "### Type your code below ###\n"
   ]
  },
  {
   "cell_type": "code",
   "execution_count": 26,
   "metadata": {},
   "outputs": [
    {
     "name": "stdout",
     "output_type": "stream",
     "text": [
      "CPU times: user 7 µs, sys: 0 ns, total: 7 µs\n",
      "Wall time: 13.8 µs\n"
     ]
    }
   ],
   "source": [
    "%%time\n",
    "# Get gradient with backrpopagation\n",
    "\n",
    "### Type your code below ###\n"
   ]
  },
  {
   "cell_type": "markdown",
   "metadata": {},
   "source": [
    "## 4. Train Network\n",
    "    - Backpropagation을 통해 모델을 트레이닝하고,\n",
    "    - Epoch별 Train accuracy, Test accuracy를 plotting해보세요."
   ]
  },
  {
   "cell_type": "code",
   "execution_count": 30,
   "metadata": {},
   "outputs": [
    {
     "ename": "TypeError",
     "evalue": "__init__() missing 2 required positional arguments: 'hidden_size' and 'output_size'",
     "output_type": "error",
     "traceback": [
      "\u001b[0;31m---------------------------------------------------------------------------\u001b[0m",
      "\u001b[0;31mTypeError\u001b[0m                                 Traceback (most recent call last)",
      "\u001b[0;32m<ipython-input-30-9683cd3d26bc>\u001b[0m in \u001b[0;36m<module>\u001b[0;34m\u001b[0m\n\u001b[1;32m      6\u001b[0m \u001b[0;34m\u001b[0m\u001b[0m\n\u001b[1;32m      7\u001b[0m \u001b[0;31m### Type your code below ###\u001b[0m\u001b[0;34m\u001b[0m\u001b[0;34m\u001b[0m\u001b[0;34m\u001b[0m\u001b[0m\n\u001b[0;32m----> 8\u001b[0;31m \u001b[0mnetwork\u001b[0m \u001b[0;34m=\u001b[0m \u001b[0mTwoLayerNet\u001b[0m\u001b[0;34m(\u001b[0m\u001b[0;34m...\u001b[0m\u001b[0;34m)\u001b[0m\u001b[0;34m\u001b[0m\u001b[0;34m\u001b[0m\u001b[0m\n\u001b[0m\u001b[1;32m      9\u001b[0m \u001b[0;34m\u001b[0m\u001b[0m\n\u001b[1;32m     10\u001b[0m \u001b[0miters_num\u001b[0m \u001b[0;34m=\u001b[0m \u001b[0;32mNone\u001b[0m\u001b[0;34m\u001b[0m\u001b[0;34m\u001b[0m\u001b[0m\n",
      "\u001b[0;31mTypeError\u001b[0m: __init__() missing 2 required positional arguments: 'hidden_size' and 'output_size'"
     ]
    }
   ],
   "source": [
    "# 데이터 읽기\n",
    "(X_train, y_train), (X_test, y_test) = load_mnist(normalize=True,\n",
    "                                                  flatten=True,\n",
    "                                                  one_hot_label=True)\n",
    "\n",
    "\n",
    "### Type your code below ###\n",
    "network = AnyLayerNet(...)\n",
    "\n",
    "iters_num = None\n",
    "train_size = X_train.shape[0]\n",
    "batch_size = None\n",
    "learning_rate = None\n",
    "\n",
    "train_loss_list = []\n",
    "train_acc_list = []\n",
    "test_acc_list = []\n",
    "\n",
    "iter_per_epoch = max(train_size / batch_size, 1)\n",
    "\n",
    "for i in range(iters_num):\n",
    "    # 미니배치\n",
    "    batch_mask = np.random.choice(train_size, batch_size)\n",
    "    X_batch = X_train[batch_mask]\n",
    "    y_batch = y_train[batch_mask]\n",
    "    \n",
    "    # 기울기 계산\n",
    "    pass\n",
    "    \n",
    "    # 파라미터 갱신\n",
    "    pass\n",
    "    \n",
    "    # Loss 계산하여 list에 추가\n",
    "    loss = network.loss(X_batch, y_batch)\n",
    "    train_loss_list.append(loss)\n",
    "    \n",
    "    if i % iter_per_epoch == 0:\n",
    "        # 매 epoch마다, accuracy를 계산하여 list에 추가하고 print\n",
    "        pass\n",
    "    \n",
    "        print(train_acc, test_acc)"
   ]
  },
  {
   "cell_type": "code",
   "execution_count": null,
   "metadata": {},
   "outputs": [],
   "source": [
    "import matplotlib.pyplot as plt\n",
    "\n",
    "### Type your code below ###\n",
    "\n"
   ]
  }
 ],
 "metadata": {
  "kernelspec": {
   "display_name": "Python 3",
   "language": "python",
   "name": "python3"
  },
  "language_info": {
   "codemirror_mode": {
    "name": "ipython",
    "version": 3
   },
   "file_extension": ".py",
   "mimetype": "text/x-python",
   "name": "python",
   "nbconvert_exporter": "python",
   "pygments_lexer": "ipython3",
   "version": "3.7.4"
  }
 },
 "nbformat": 4,
 "nbformat_minor": 4
}
