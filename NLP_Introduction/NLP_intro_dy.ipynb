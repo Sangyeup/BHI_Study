{
 "cells": [
  {
   "cell_type": "code",
   "execution_count": 11,
   "metadata": {
    "executionInfo": {
     "elapsed": 5,
     "status": "ok",
     "timestamp": 1650859885418,
     "user": {
      "displayName": "김도현",
      "userId": "08153555837456875951"
     },
     "user_tz": -540
    },
    "id": "Nzv8ph_R5jru"
   },
   "outputs": [],
   "source": [
    "import numpy as np"
   ]
  },
  {
   "cell_type": "code",
   "execution_count": 27,
   "metadata": {
    "executionInfo": {
     "elapsed": 314,
     "status": "ok",
     "timestamp": 1650860285442,
     "user": {
      "displayName": "김도현",
      "userId": "08153555837456875951"
     },
     "user_tz": -540
    },
    "id": "CcEefA0I6qiT"
   },
   "outputs": [
    {
     "data": {
      "text/plain": [
       "([0, 1, 2, 3, 4],\n",
       " {'i': 0, 'am': 1, 'a': 2, 'kid': 3, '.': 4},\n",
       " {0: 'i', 1: 'am', 2: 'a', 3: 'kid', 4: '.'})"
      ]
     },
     "execution_count": 27,
     "metadata": {},
     "output_type": "execute_result"
    }
   ],
   "source": [
    "# text를 받아서 corpus, word_to_id, id_to_word를 반환하는 함수 생성\n",
    "\n",
    "def preprocess(text):\n",
    "    text = text.lower()\n",
    "    text = text.replace('.', ' .')\n",
    "    words = text.split(' ')\n",
    "\n",
    "    word_to_id = {}\n",
    "    id_to_word = {}\n",
    "\n",
    "    '''\n",
    "    Fill in your answer\n",
    "    1. For문을 이용하여 word_to_id, id_to_word를 만들고\n",
    "    2. word_to_id를 이용해 corpus 생성\n",
    "    '''\n",
    "    for word in words:\n",
    "        if not word in word_to_id:\n",
    "            idx = len(word_to_id)\n",
    "            word_to_id[word] = idx\n",
    "            id_to_word[idx] = word\n",
    "    \n",
    "    corpus = [word_to_id[word] for word in words]\n",
    "    \n",
    "    return corpus, word_to_id, id_to_word\n",
    "\n",
    "preprocess(\"I am a kid.\")"
   ]
  },
  {
   "cell_type": "code",
   "execution_count": 29,
   "metadata": {
    "executionInfo": {
     "elapsed": 296,
     "status": "ok",
     "timestamp": 1650860437992,
     "user": {
      "displayName": "김도현",
      "userId": "08153555837456875951"
     },
     "user_tz": -540
    },
    "id": "xi82snMf6r_S"
   },
   "outputs": [
    {
     "name": "stdout",
     "output_type": "stream",
     "text": [
      "[[0 2 0 0 0]\n",
      " [2 0 2 0 0]\n",
      " [0 2 0 2 0]\n",
      " [0 0 2 0 2]\n",
      " [0 0 0 2 0]]\n"
     ]
    }
   ],
   "source": [
    "def create_co_matrix(corpus, vocab_size, window_size=1):\n",
    "    '''동시발생 행렬 생성\n",
    "\n",
    "    :param corpus: 말뭉치(단어 ID 목록)\n",
    "    :param vocab_size: 어휘 수\n",
    "    :param window_size: 윈도우 크기(윈도우 크기가 1이면 타깃 단어 좌우 한 단어씩이 맥락에 포함)\n",
    "    :return: 동시발생 행렬\n",
    "    '''\n",
    "    corpus_size = len(corpus)\n",
    "    co_matrix = np.zeros((vocab_size, vocab_size), dtype=np.int32)\n",
    "\n",
    "    for idx, word_id in enumerate(corpus):\n",
    "        for i in range(1, window_size + 1):\n",
    "            left_idx = idx - i\n",
    "            right_idx = idx + i\n",
    "\n",
    "            '''\n",
    "            Fill in your answer\n",
    "            - left_idx, right_idx 각각 위치에 해당하는 단어 값에 +1\n",
    "            '''\n",
    "            \n",
    "            if left_idx >= 0:\n",
    "                co_word_id = corpus[left_idx]\n",
    "                co_matrix[co_word_id][word_id] += 1\n",
    "                co_matrix[word_id][co_word_id] += 1\n",
    "            \n",
    "            if right_idx < corpus_size:\n",
    "                co_word_id = corpus[right_idx]\n",
    "                co_matrix[co_word_id][word_id] += 1\n",
    "                co_matrix[word_id][co_word_id] += 1\n",
    "            \n",
    "    return co_matrix\n",
    "\n",
    "corpus, word_to_id, id_to_word = preprocess(\"I am a kid.\")\n",
    "C = create_co_matrix(corpus, len(word_to_id), 1)\n",
    "print(C)"
   ]
  },
  {
   "cell_type": "code",
   "execution_count": 16,
   "metadata": {
    "executionInfo": {
     "elapsed": 309,
     "status": "ok",
     "timestamp": 1650859917647,
     "user": {
      "displayName": "김도현",
      "userId": "08153555837456875951"
     },
     "user_tz": -540
    },
    "id": "yD8zePjf6t1S"
   },
   "outputs": [],
   "source": [
    "# 유사 단어 검색하는 함수\n",
    "\n",
    "def most_similar(query, word_to_id, id_to_word, word_matrix, top=5):\n",
    "    '''유사 단어 검색\n",
    "\n",
    "    :param query: 쿼리(텍스트)\n",
    "    :param word_to_id: 단어에서 단어 ID로 변환하는 딕셔너리\n",
    "    :param id_to_word: 단어 ID에서 단어로 변환하는 딕셔너리\n",
    "    :param word_matrix: 단어 벡터를 정리한 행렬. 각 행에 해당 단어 벡터가 저장되어 있다고 가정한다.\n",
    "    :param top: 상위 몇 개까지 출력할 지 지정\n",
    "    '''\n",
    "    if query not in word_to_id:\n",
    "        print('%s(을)를 찾을 수 없습니다.' % query)\n",
    "        return\n",
    "\n",
    "    print('\\n[query] ' + query)\n",
    "    query_id = word_to_id[query]\n",
    "    query_vec = word_matrix[query_id]\n",
    "\n",
    "    # 코사인 유사도 계산\n",
    "    vocab_size = len(id_to_word)\n",
    "\n",
    "    similarity = np.zeros(vocab_size)\n",
    "    for i in range(vocab_size):\n",
    "        similarity[i] = cos_similarity(word_matrix[i], query_vec)\n",
    "\n",
    "    # 코사인 유사도를 기준으로 내림차순으로 출력\n",
    "    count = 0\n",
    "    for i in (-1 * similarity).argsort():\n",
    "        if id_to_word[i] == query:\n",
    "            continue\n",
    "        print(' %s: %s' % (id_to_word[i], similarity[i]))\n",
    "\n",
    "        count += 1\n",
    "        if count >= top:\n",
    "            return"
   ]
  },
  {
   "cell_type": "code",
   "execution_count": 26,
   "metadata": {
    "executionInfo": {
     "elapsed": 320,
     "status": "ok",
     "timestamp": 1650859919211,
     "user": {
      "displayName": "김도현",
      "userId": "08153555837456875951"
     },
     "user_tz": -540
    },
    "id": "hf9djDmS6z5D"
   },
   "outputs": [
    {
     "data": {
      "text/plain": [
       "0.9999999932917959"
      ]
     },
     "execution_count": 26,
     "metadata": {},
     "output_type": "execute_result"
    }
   ],
   "source": [
    "def cos_similarity(x, y, eps=1e-8):\n",
    "    '''코사인 유사도 산출\n",
    "\n",
    "    :param x: 벡터\n",
    "    :param y: 벡터\n",
    "    :param eps: '0으로 나누기'를 방지하기 위한 작은 값\n",
    "    :return:\n",
    "    '''\n",
    "\n",
    "    '''\n",
    "    Fill in your answer\n",
    "    - 코사인 유사도의 정의를 이용하여\n",
    "    '''\n",
    "    nx = x / (np.sqrt(np.square(x).sum()) + eps)\n",
    "    ny = y / (np.sqrt(np.square(y).sum()) + eps)\n",
    "    \n",
    "    return np.dot(nx, ny)\n",
    "\n",
    "cos_similarity(np.array([1, 2]), np.array([2, 4]))"
   ]
  },
  {
   "cell_type": "code",
   "execution_count": 31,
   "metadata": {
    "executionInfo": {
     "elapsed": 335,
     "status": "ok",
     "timestamp": 1650859927748,
     "user": {
      "displayName": "김도현",
      "userId": "08153555837456875951"
     },
     "user_tz": -540
    },
    "id": "Ue2XHxQj60OM"
   },
   "outputs": [
    {
     "name": "stderr",
     "output_type": "stream",
     "text": [
      "/data/packages/anaconda3/lib/python3.7/site-packages/ipykernel_launcher.py:22: RuntimeWarning: divide by zero encountered in log2\n"
     ]
    },
    {
     "data": {
      "text/plain": [
       "array([[0., 2., 0., 0., 0.],\n",
       "       [2., 0., 1., 0., 0.],\n",
       "       [0., 1., 0., 1., 0.],\n",
       "       [0., 0., 1., 0., 2.],\n",
       "       [0., 0., 0., 2., 0.]], dtype=float32)"
      ]
     },
     "execution_count": 31,
     "metadata": {},
     "output_type": "execute_result"
    }
   ],
   "source": [
    "def ppmi(C, verbose=False, eps = 1e-8):\n",
    "    '''PPMI(점별 상호정보량) 생성\n",
    "\n",
    "    :param C: 동시발생 행렬\n",
    "    :param verbose: 진행 상황을 출력할지 여부\n",
    "    :return:\n",
    "    '''\n",
    "    M = np.zeros_like(C, dtype=np.float32)\n",
    "    N = np.sum(C)\n",
    "    S = np.sum(C, axis=0)\n",
    "    total = C.shape[0] * C.shape[1]\n",
    "    cnt = 0\n",
    "\n",
    "    for i in range(C.shape[0]):\n",
    "        for j in range(C.shape[1]):\n",
    "            '''\n",
    "            Fill in your answer\n",
    "            1. 단어 사이의 pmi를 구하고\n",
    "            2. 0과 pmi 중 max 값을 반환\n",
    "            단, log2를 사용\n",
    "            '''\n",
    "            pmi = np.log2(N * C[i, j] / (S[i] * S[j] + eps))\n",
    "            M[i, j] = max(0, pmi)\n",
    "            if verbose:\n",
    "                cnt += 1\n",
    "                if cnt % (total//100 + 1) == 0:\n",
    "                    print('%.1f%% 완료' % (100*cnt/total))\n",
    "                    \n",
    "    return M\n",
    "\n",
    "ppmi(C)"
   ]
  },
  {
   "cell_type": "code",
   "execution_count": 39,
   "metadata": {
    "id": "-NZh1evl6_oa"
   },
   "outputs": [
    {
     "name": "stdout",
     "output_type": "stream",
     "text": [
      "동시발생 수 계산 ...\n",
      "PPMI 계산 ...\n"
     ]
    },
    {
     "name": "stderr",
     "output_type": "stream",
     "text": [
      "/data/packages/anaconda3/lib/python3.7/site-packages/ipykernel_launcher.py:22: RuntimeWarning: divide by zero encountered in log2\n"
     ]
    },
    {
     "name": "stdout",
     "output_type": "stream",
     "text": [
      "calculating SVD ...\n",
      "\n",
      "[query] you\n",
      " we: 0.8425182700157166\n",
      " i: 0.8331506848335266\n",
      " they: 0.655825138092041\n",
      " there: 0.5441756248474121\n",
      " exactly: 0.5286860466003418\n",
      "\n",
      "[query] year\n",
      " week: 0.8960786461830139\n",
      " month: 0.870625376701355\n",
      " summer: 0.7156308889389038\n",
      " period: 0.71495521068573\n",
      " day: 0.7052380442619324\n",
      "\n",
      "[query] car\n",
      " auto: 0.6598967909812927\n",
      " truck: 0.603825569152832\n",
      " luxury-car: 0.5636757016181946\n",
      " fast-growing: 0.5518054962158203\n",
      " jewelry: 0.5344263315200806\n",
      "\n",
      "[query] toyota\n",
      " kuwait: 0.6819412112236023\n",
      " pakistan: 0.6040564179420471\n",
      " aeroflot: 0.5711824297904968\n",
      " daimler-benz: 0.5506374835968018\n",
      " bullets: 0.5410138368606567\n"
     ]
    }
   ],
   "source": [
    "# coding: utf-8\n",
    "import sys\n",
    "sys.path.append('..')\n",
    "import numpy as np\n",
    "import ptb\n",
    "\n",
    "'''\n",
    "window_size : 2\n",
    "wordvec_size = 100\n",
    "'''\n",
    "\n",
    "window_size = 2\n",
    "wordvec_size = 100\n",
    "\n",
    "corpus, word_to_id, id_to_word = ptb.load_data('train')\n",
    "vocab_size = len(word_to_id)\n",
    "print('동시발생 수 계산 ...')\n",
    "\n",
    "'''\n",
    "Fill in your answer\n",
    "\n",
    "1. 동시발생행렬 생성\n",
    "'''\n",
    "C = create_co_matrix(corpus=corpus, vocab_size=vocab_size)\n",
    "\n",
    "print('PPMI 계산 ...')\n",
    "'''\n",
    "Fill in your answer\n",
    "\n",
    "1. PPMI 계산\n",
    "'''\n",
    "W = ppmi(C)\n",
    "\n",
    "print('calculating SVD ...')\n",
    "try:\n",
    "    # truncated SVD (빠르다!)\n",
    "    from sklearn.utils.extmath import randomized_svd\n",
    "\n",
    "    '''\n",
    "    Fill in your answer\n",
    "    1. randomized_svd를 사용하여 U, S, V 반환\n",
    "    단, n_iter : 5, n_components : wordvec_size\n",
    "    '''\n",
    "    U, S, V = randomized_svd(W, n_components=wordvec_size, n_iter=5)\n",
    "\n",
    "except ImportError:\n",
    "    # SVD (느리다)\n",
    "    '''\n",
    "    Fill in your answer\n",
    "    1. numpy의 svd 함수 사용하여 U, S, V 반환\n",
    "    '''\n",
    "    U, S, V = np.linalg.svd(W)\n",
    "\n",
    "'''\n",
    "Fill in your answer\n",
    "1. wordvec_size로 truncate 시키기\n",
    "'''\n",
    "\n",
    "word_vecs = U[:, :wordvec_size]\n",
    "\n",
    "querys = ['you', 'year', 'car', 'toyota']\n",
    "for query in querys:\n",
    "    most_similar(query, word_to_id, id_to_word, word_vecs, top=5)"
   ]
  },
  {
   "cell_type": "code",
   "execution_count": null,
   "metadata": {
    "id": "GDi3EQlG7Iwz"
   },
   "outputs": [],
   "source": []
  }
 ],
 "metadata": {
  "colab": {
   "authorship_tag": "ABX9TyMHanI3SHTqEF6jsVjzyk1r",
   "name": "Ch02_Skeleton_code.ipynb",
   "provenance": []
  },
  "kernelspec": {
   "display_name": "Python 3",
   "language": "python",
   "name": "python3"
  },
  "language_info": {
   "codemirror_mode": {
    "name": "ipython",
    "version": 3
   },
   "file_extension": ".py",
   "mimetype": "text/x-python",
   "name": "python",
   "nbconvert_exporter": "python",
   "pygments_lexer": "ipython3",
   "version": "3.7.4"
  }
 },
 "nbformat": 4,
 "nbformat_minor": 2
}
